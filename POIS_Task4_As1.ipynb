{
  "nbformat": 4,
  "nbformat_minor": 0,
  "metadata": {
    "colab": {
      "name": "POIS Task4 As1.ipynb",
      "provenance": [],
      "include_colab_link": true
    },
    "kernelspec": {
      "name": "python3",
      "display_name": "Python 3"
    },
    "language_info": {
      "name": "python"
    }
  },
  "cells": [
    {
      "cell_type": "markdown",
      "metadata": {
        "id": "view-in-github",
        "colab_type": "text"
      },
      "source": [
        "<a href=\"https://colab.research.google.com/github/Chaitu32/2D-game/blob/main/POIS_Task4_As1.ipynb\" target=\"_parent\"><img src=\"https://colab.research.google.com/assets/colab-badge.svg\" alt=\"Open In Colab\"/></a>"
      ]
    },
    {
      "cell_type": "code",
      "execution_count": 1,
      "metadata": {
        "id": "xBv9S__lmPeL",
        "cellView": "form"
      },
      "outputs": [],
      "source": [
        "#@title Large n-bits prime generator\n",
        "import random\n",
        "\n",
        "small_primes_list = [ 2, 3, 5, 7, 11, 13, 17, 19, 23, 29, 31, 37, 41, 43, 47, 53, 59, 61, 67, 71, 73, 79, 83, 89, 97,\n",
        "                     101, 103, 107, 109, 113, 127, 131, 137, 139, 149, 151, 157, 163, 167, 173, 179, 181, 191, 193, 197,\n",
        "                     199, 211, 223, 227, 229, 233, 239, 241, 251, 257, 263, 269, 271, 277, 281, 283, 293, 307, 311, 313,\n",
        "                     317, 331, 337, 347, 349, 353, 359, 367, 373, 379, 383, 389, 397, 401, 409, 419, 421, 431, 433, 439,\n",
        "                     443, 449, 457, 461, 463, 467, 479, 487, 491, 499, 503, 509, 521, 523, 541, 547, 557, 563, 569, 571,\n",
        "                     577, 587, 593, 599, 601, 607, 613, 617, 619, 631, 641, 643, 647, 653, 659, 661, 673, 677, 683, 691,\n",
        "                     701, 709, 719, 727, 733, 739, 743, 751, 757, 761, 769, 773, 787, 797, 809, 811, 821, 823, 827, 829,\n",
        "                     839, 853, 857, 859, 863, 877, 881, 883, 887, 907, 911, 919, 929, 937, 941, 947, 953, 967, 971, 977,\n",
        "                     983, 991, 997]\n",
        "\n",
        "def random_nbitnumber(n):\n",
        "  return random.randrange(2**(n-1)+1,2**n -1)\n",
        "\n",
        "def pseudo_prime_gen(n):\n",
        "\n",
        "  while True:\n",
        "    \n",
        "    pseudo_PN = random_nbitnumber(n)\n",
        "    #Testing for pseudo prime number\n",
        "\n",
        "    prime_check = True\n",
        "\n",
        "    for small_PM in small_primes_list:\n",
        "      if pseudo_PN % small_PM == 0 and small_PM**2 <= pseudo_PN:\n",
        "        prime_check = False\n",
        "        break\n",
        "    \n",
        "    if prime_check : return pseudo_PN\n",
        "\n",
        "def MillerRabinTest(pseudo_prime,trails):\n",
        "  prev_num = pseudo_prime -1\n",
        "  exp_2 = 0\n",
        "  while prev_num %2 ==0:\n",
        "    prev_num>>=1\n",
        "    exp_2 +=1\n",
        "\n",
        "  def check_composite(num_check):\n",
        "    if pow(num_check,prev_num,pseudo_prime) == 1:\n",
        "      return False\n",
        "    for i in range(exp_2):\n",
        "      if pow(num_check,2**i * prev_num,pseudo_prime) == pseudo_prime-1:\n",
        "        return False\n",
        "    return True\n",
        "  \n",
        "  for _ in range(trails):\n",
        "    random_test = random.randrange(2,pseudo_prime)\n",
        "    if check_composite(random_test): return False\n",
        "\n",
        "  return True\n",
        "\n",
        "\n",
        "def large_prime_gen(bits):\n",
        "  prime = 0\n",
        "  trails = 20\n",
        "  while True:\n",
        "    prime = pseudo_prime_gen(bits)\n",
        "    \n",
        "    if MillerRabinTest(prime,trails)== True:\n",
        "      return prime"
      ]
    },
    {
      "cell_type": "code",
      "source": [
        "#@title Smallest primitive root finder\n",
        "from math import sqrt\n",
        "#primitive root finder\n",
        "def primefactors(num):\n",
        "  list_factors = set()\n",
        "\n",
        "  while num %2 == 0 :\n",
        "    list_factors.add(2)\n",
        "    num >>=1\n",
        "\n",
        "  for i in small_primes_list:\n",
        "    while(num%i)==0:\n",
        "      list_factors.add(i)\n",
        "      num = num//i\n",
        "  \n",
        "  if num > max(small_primes_list)**2 :\n",
        "    for i in range(max(small_primes_list)+2,int(sqrt(num)),2):\n",
        "      while(num%i)==0:\n",
        "        list_factors.add(i)\n",
        "        num = num//i\n",
        "  \n",
        "  if (num>2):\n",
        "    list_factors.add(num)\n",
        "\n",
        "  return list_factors\n",
        "\n",
        "\n",
        "def primitive_root(prime):\n",
        "  prev_num = prime-1\n",
        "\n",
        "  factors_num = primefactors(prev_num)\n",
        "\n",
        "  for i in range(2,prime):\n",
        "    check= True\n",
        "    for j in factors_num:\n",
        "      if(pow(i,prev_num//j,prime) ==1):\n",
        "        check = False\n",
        "        break\n",
        "    if check :\n",
        "      return i\n",
        "\n",
        "  return -1"
      ],
      "metadata": {
        "id": "DlSv6kkwn9lL",
        "cellView": "form"
      },
      "execution_count": 2,
      "outputs": []
    },
    {
      "cell_type": "code",
      "source": [
        "#@title Pseudo random number generator class\n",
        "class PRNG():\n",
        "  N = 64\n",
        "  def __init__(self,output_bits,input_bits):\n",
        "    if output_bits+input_bits < PRNG.N:\n",
        "      self._init = True\n",
        "      self._p = large_prime_gen(PRNG.N)\n",
        "      print(self._p)\n",
        "      self._g = primitive_root(self._p)\n",
        "      if self._g == -1:\n",
        "        print(\"No primitive roots for prime \",self._p)\n",
        "        self._init = False\n",
        "      print(self._g)\n",
        "      self._output_bits = output_bits\n",
        "      self._input_bits = input_bits\n",
        "    else :\n",
        "      self._init = False\n",
        "\n",
        "  def __bool__(self):\n",
        "    return self._init\n",
        "\n",
        "  def generator(self,seed):\n",
        "    if seed >= 2**self._input_bits:\n",
        "      print(\"Invaild seed\")\n",
        "      return -1\n",
        "    random_num = 0\n",
        "    pow_2 = 1\n",
        "    x_i = seed\n",
        "    for _ in range(self._output_bits):\n",
        "      x_i = pow(self._g,x_i,self._p)\n",
        "      if x_i > (self._p-1)//2:\n",
        "        random_num = random_num+pow_2\n",
        "      pow_2 <<=1\n",
        "\n",
        "    return random_num"
      ],
      "metadata": {
        "id": "1FcauKwRoJPU",
        "cellView": "form"
      },
      "execution_count": 16,
      "outputs": []
    },
    {
      "cell_type": "code",
      "source": [
        "#@title Pseudo random number function class\n",
        "\n",
        "class PRNF():\n",
        "\n",
        "  def __init__(self,input_bits):\n",
        "    if input_bits*3 >= PRNG.N:\n",
        "      print(\"Input bits are too large\")\n",
        "      return -1\n",
        "    self._n = input_bits\n",
        "    self._G = PRNG(2*input_bits,input_bits)\n",
        "\n",
        "  def generator_function(self,key,x):\n",
        "    if not (key < 2**self._n and x < 2**self._n):\n",
        "      print(\"Invaild key or x\")\n",
        "      return -1\n",
        "\n",
        "    random_num = 0\n",
        "    for _ in range(self._n):\n",
        "      x_i = x%2\n",
        "      x >>=1\n",
        "      random_num = self._G.generator(key)\n",
        "      if x_i ==1:\n",
        "        key = random_num>>self._n\n",
        "      else :\n",
        "        key = random_num%(2**self._n)\n",
        "\n",
        "    return key\n"
      ],
      "metadata": {
        "id": "iLyPO0gfp-KW",
        "cellView": "form"
      },
      "execution_count": 17,
      "outputs": []
    },
    {
      "cell_type": "code",
      "source": [
        "#@title Secure MAC\n",
        "#Building secure MAC\n",
        "import random\n",
        "\n",
        "class MAC():\n",
        "\n",
        "  def __init__(self,n):\n",
        "    self._n = n\n",
        "    self._F = PRNF(n)\n",
        "    if self._F ==-1:\n",
        "      print(\"Long input bits\")\n",
        "      return -1\n",
        "\n",
        "  def Gen(self):\n",
        "    return random.randrange(2**(self._n-1), 2**(self._n) -1)\n",
        "\n",
        "  def MAC(self,key,m,r=None):\n",
        "    if key >= 2**(self._n):\n",
        "      print(\"Invaild key\")\n",
        "      return -1\n",
        "    m_bits = 0\n",
        "    while (1 << m_bits) < m:\n",
        "      m_bits +=1\n",
        "    if m_bits >= 2**(self._n//4 -1) :\n",
        "      print(\"Message bits Invaild\")\n",
        "      return -1\n",
        "\n",
        "    d = m_bits // (self._n//4)\n",
        "    if d%(self._n/4) != 0:\n",
        "      d +=1\n",
        "\n",
        "    if r == None:\n",
        "      r = random.randrange(2**(self._n//4-1),2**(self._n//4 ) - 1)\n",
        "      #r = PRNG(self._n//4,self._n).generator(seed_r)\n",
        "    \n",
        "\n",
        "    tags = []\n",
        "    t_bits = m_bits -1\n",
        "\n",
        "    tag_inputs=[]\n",
        "    for i in range(d):\n",
        "      m_i = m >> t_bits\n",
        "      m = m%(1<<t_bits)\n",
        "      tag_input = m_i\n",
        "      tag_input = (i<<(self._n//4)) + tag_input\n",
        "      tag_input = (d<<(self._n//2)) + tag_input\n",
        "      tag_input = (r<<(3* self._n//4)) + tag_input\n",
        "      tag_inputs.append(tag_input)\n",
        "\n",
        "    for tag_input in tag_inputs:\n",
        "      tag = self._F.generator_function(key,tag_input)\n",
        "      tags.append(tag)\n",
        "\n",
        "    return [r]+tags\n",
        "\n",
        "\n",
        "  def Vrfy(self,key,m,t):\n",
        "    if len(t) ==0:\n",
        "      print(\"Invaild tag\")\n",
        "      return -1\n",
        "    output_tags = self.MAC(key,m,r=t[0])\n",
        "    \n",
        "    if len(output_tags)!=len(t):\n",
        "      return False\n",
        "    \n",
        "    check = True\n",
        "    for i,tag in enumerate(output_tags):\n",
        "      if tag!=t[i] :\n",
        "        check = False\n",
        "        break\n",
        "\n",
        "    return check "
      ],
      "metadata": {
        "id": "yBerQaSFo2Z5",
        "cellView": "form"
      },
      "execution_count": 33,
      "outputs": []
    },
    {
      "cell_type": "code",
      "source": [
        "mac = MAC(16)"
      ],
      "metadata": {
        "colab": {
          "base_uri": "https://localhost:8080/"
        },
        "id": "IHV6nFu9y9oa",
        "outputId": "7fd3fa46-cf32-47c3-94d2-d9a6e24a48cd"
      },
      "execution_count": 34,
      "outputs": [
        {
          "output_type": "stream",
          "name": "stdout",
          "text": [
            "12644425729206707573\n",
            "2\n"
          ]
        }
      ]
    },
    {
      "cell_type": "code",
      "source": [
        "key = mac.Gen()\n",
        "key"
      ],
      "metadata": {
        "colab": {
          "base_uri": "https://localhost:8080/"
        },
        "id": "XfcAYmcj4nJ_",
        "outputId": "080fc88f-eab1-4036-a6d8-7413c53dca79"
      },
      "execution_count": 35,
      "outputs": [
        {
          "output_type": "execute_result",
          "data": {
            "text/plain": [
              "60807"
            ]
          },
          "metadata": {},
          "execution_count": 35
        }
      ]
    },
    {
      "cell_type": "code",
      "source": [
        "mac_t = mac.MAC(key,54)\n",
        "mac_t"
      ],
      "metadata": {
        "colab": {
          "base_uri": "https://localhost:8080/"
        },
        "id": "q7tmN_ZC4xSf",
        "outputId": "e40b2f0d-5869-461f-d84a-24376c89f9db"
      },
      "execution_count": 36,
      "outputs": [
        {
          "output_type": "execute_result",
          "data": {
            "text/plain": [
              "[8, 18553, 64749]"
            ]
          },
          "metadata": {},
          "execution_count": 36
        }
      ]
    },
    {
      "cell_type": "code",
      "source": [
        "mac.Vrfy(key,54,mac_t)"
      ],
      "metadata": {
        "colab": {
          "base_uri": "https://localhost:8080/"
        },
        "id": "zj-vyhgp6HSw",
        "outputId": "db0d6afd-baa7-4758-91db-6682ec67e016"
      },
      "execution_count": 37,
      "outputs": [
        {
          "output_type": "execute_result",
          "data": {
            "text/plain": [
              "True"
            ]
          },
          "metadata": {},
          "execution_count": 37
        }
      ]
    }
  ]
}